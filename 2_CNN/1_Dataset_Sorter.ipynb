{
 "cells": [
  {
   "cell_type": "code",
   "execution_count": 11,
   "metadata": {},
   "outputs": [],
   "source": [
    "import pandas as pd\n",
    "import numpy as np\n",
    "import random\n",
    "import glob\n"
   ]
  },
  {
   "cell_type": "code",
   "execution_count": 12,
   "metadata": {},
   "outputs": [
    {
     "name": "stdout",
     "output_type": "stream",
     "text": [
      "cat  dog\r\n"
     ]
    }
   ],
   "source": [
    "!ls images"
   ]
  },
  {
   "cell_type": "code",
   "execution_count": 13,
   "metadata": {},
   "outputs": [],
   "source": [
    "def corrupt_image_remover(class_name,usage=.1,base_dir=\"images/\", ):\n",
    "    \n",
    "    from PIL import Image\n",
    "    import os\n",
    "    \n",
    "    query=base_dir+class_name+\"/*.jpg\"\n",
    "    files=glob.glob(query)\n",
    "    files=files[0:int(usage*len(files))]\n",
    "    print(query)\n",
    "    \n",
    "    for filename in files:\n",
    "        try:\n",
    "            img = Image.open('./'+filename) # open the image file\n",
    "            img.verify() # verify that it is, in fact an image\n",
    "        except (IOError, SyntaxError) as e:\n",
    "            print('Bad file:', filename) # prin\n",
    "            os.remove(filename)            \n",
    "    \n",
    "    return files\n",
    "\n",
    "\n"
   ]
  },
  {
   "cell_type": "code",
   "execution_count": 14,
   "metadata": {},
   "outputs": [
    {
     "name": "stdout",
     "output_type": "stream",
     "text": [
      "images/cat/*.jpg\n",
      "images/dog/*.jpg\n"
     ]
    }
   ],
   "source": [
    "cat_files=corrupt_image_remover('cat', usage=0.1)\n",
    "dog_files=corrupt_image_remover('dog', usage=0.1)"
   ]
  },
  {
   "cell_type": "code",
   "execution_count": 15,
   "metadata": {},
   "outputs": [],
   "source": [
    "def train_test_valid_splitter(any_array,valid=0.2,test=0.1, ):\n",
    "    random.shuffle(any_array)\n",
    "    \n",
    "    l=len(any_array)\n",
    "    train=1-valid-test\n",
    "    \n",
    "    \n",
    "    train_n=int(l*train)\n",
    "    valid_n=train_n+int(l*valid)\n",
    "    \n",
    "    train_a=any_array[0:train_n]\n",
    "    valid_a=any_array[train_n:valid_n]\n",
    "    test_a=any_array[valid_n:]\n",
    "    \n",
    "    return train_a, valid_a, test_a,"
   ]
  },
  {
   "cell_type": "code",
   "execution_count": 16,
   "metadata": {},
   "outputs": [],
   "source": [
    "def image_sorter(train_a, valid_a, test_a,class_name='cat', base_dir=\"./images/\"):\n",
    "    \n",
    "    import glob\n",
    "    import os\n",
    "    import shutil\n",
    "    \n",
    "    \n",
    "    \n",
    "    destination_dir=base_dir+\"/train/\"+class_name+\"/\"\n",
    "    if not os.path.exists(destination_dir):\n",
    "        os.makedirs(destination_dir,exist_ok=True)\n",
    "        \n",
    "    for source in train_a:\n",
    "        destination=destination_dir+source.split(\"/\")[-1]\n",
    "        shutil.copy(source,destination)\n",
    "\n",
    "        \n",
    "        \n",
    "    \n",
    "    destination_dir=base_dir+\"/valid/\"+class_name+\"/\"\n",
    "    if not os.path.exists(destination_dir):\n",
    "        os.makedirs(destination_dir,exist_ok=True)\n",
    "\n",
    "    for source in valid_a:\n",
    "        destination=destination_dir+source.split(\"/\")[-1]\n",
    "        shutil.copy(source,destination)\n",
    "\n",
    "        \n",
    "        \n",
    "        \n",
    "    destination_dir=base_dir+\"/test/\"+class_name+\"/\"\n",
    "    if not os.path.exists(destination_dir):\n",
    "        os.makedirs(destination_dir,exist_ok=True)\n",
    "\n",
    "    for source in test_a:\n",
    "        destination=destination_dir+source.split(\"/\")[-1]\n",
    "        shutil.copy(source,destination)\n",
    "\n",
    "            \n",
    "    return 0"
   ]
  },
  {
   "cell_type": "code",
   "execution_count": 17,
   "metadata": {},
   "outputs": [
    {
     "data": {
      "text/plain": [
       "0"
      ]
     },
     "execution_count": 17,
     "metadata": {},
     "output_type": "execute_result"
    }
   ],
   "source": [
    "train,valid, test=train_test_valid_splitter(cat_files)\n",
    "image_sorter(train,valid, test,\"cat\")\n",
    "\n",
    "train,valid, test=train_test_valid_splitter(dog_files)\n",
    "image_sorter(train,valid, test,\"dog\")\n"
   ]
  }
 ],
 "metadata": {
  "kernelspec": {
   "display_name": "Python 3",
   "language": "python",
   "name": "python3"
  },
  "language_info": {
   "codemirror_mode": {
    "name": "ipython",
    "version": 3
   },
   "file_extension": ".py",
   "mimetype": "text/x-python",
   "name": "python",
   "nbconvert_exporter": "python",
   "pygments_lexer": "ipython3",
   "version": "3.7.6"
  }
 },
 "nbformat": 4,
 "nbformat_minor": 4
}
